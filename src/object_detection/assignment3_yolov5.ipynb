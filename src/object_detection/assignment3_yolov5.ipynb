{
 "cells": [
  {
   "cell_type": "markdown",
   "metadata": {
    "pycharm": {
     "name": "#%% md\n"
    }
   },
   "source": [
    "# Assignment 3 - Fine-Tuning YOLOv5 for Object Detection\n",
    "\n",
    "*Note: Ignore the execution order of cells in the HTML export of the notebook.*\n",
    "\n",
    "## Overview and Prerequisites\n",
    "\n",
    "This notebooks contains the conducted object detection experiments.\n",
    "\n",
    "All used datasets are from https://roboflow.com. In order to download dataset from there, you normally need to register. For convenience, we provide all datasets via a Google Drive. Download them and place the zip files in the `src/yolov5/datasets` directory.\n",
    "\n",
    "* Oxford Pets (by species): https://drive.google.com/uc?id=1bfyssR7CfzTqJ-JAgaZNuM0lgTumDcZy&export=download\n",
    "* Oxford Pets (by breed): https://drive.google.com/uc?id=1e8mAf-pmm1-G5lRiNC0V3FT4SVoWq7Kq&export=download\n",
    "* Aquarium Dataset: https://drive.google.com/uc?id=1S95wQyyCyrx5l-uHCK_EetJ-VZr0yeZp&export=download"
   ]
  },
  {
   "cell_type": "markdown",
   "metadata": {},
   "source": [
    "Install additional dependencies (protobuf with specific version is needed to avoid version conflicts with `TensorBoard`)."
   ]
  },
  {
   "cell_type": "code",
   "execution_count": null,
   "metadata": {},
   "outputs": [],
   "source": [
    "!pip3 install protobuf==3.19.4 ipywidgets"
   ]
  },
  {
   "cell_type": "markdown",
   "metadata": {
    "pycharm": {
     "name": "#%% md\n"
    }
   },
   "source": [
    "If haven't installed PyTorch yet, remove the comment in the following cell and execute it. In case you need a `CUDA` version different from 11.3, please refer to https://pytorch.org/get-started/locally/."
   ]
  },
  {
   "cell_type": "code",
   "execution_count": null,
   "metadata": {
    "pycharm": {
     "name": "#%%\n"
    }
   },
   "outputs": [],
   "source": [
    "#!pip3 install torch torchvision --extra-index-url https://download.pytorch.org/whl/cu113"
   ]
  },
  {
   "cell_type": "code",
   "execution_count": null,
   "metadata": {
    "pycharm": {
     "name": "#%%\n"
    }
   },
   "outputs": [],
   "source": [
    "import os"
   ]
  },
  {
   "cell_type": "markdown",
   "metadata": {
    "pycharm": {
     "name": "#%% md\n"
    }
   },
   "source": [
    "## Constants and Utiltity Functions"
   ]
  },
  {
   "cell_type": "code",
   "execution_count": null,
   "metadata": {
    "pycharm": {
     "name": "#%%\n"
    }
   },
   "outputs": [],
   "source": [
    "datasets_base_path = \"datasets\" # directory where datasets are located"
   ]
  },
  {
   "cell_type": "code",
   "execution_count": null,
   "metadata": {
    "pycharm": {
     "name": "#%%\n"
    }
   },
   "outputs": [],
   "source": [
    "def adapt_data_yaml(path):\n",
    "    \"\"\"\n",
    "    Adapts the paths of the train and validation set (keys 'train' and 'val') of a data.yaml file (YOLOv5 format)\n",
    "    to point to 'path'. Addtionally adds the key 'test'.\n",
    "    The data.yaml file itself also has to be contained in the directory 'path'.\n",
    "    Each data.yaml may be adapted max. once. If this function is called multiple times for the same\n",
    "    data.yaml, the behaviour is undefined.\n",
    "    \n",
    "    :param str path: Path (directory) where the data.yaml file to be modified is located\n",
    "    \"\"\"\n",
    "    with open(os.path.join(path, \"data.yaml\"), \"r\") as f:\n",
    "        lines = f.readlines()\n",
    "    \n",
    "    lines[0] = f\"train: {os.path.join(os.pardir, path, 'train', 'images')}\\n\"\n",
    "    lines[1] = f\"val: {os.path.join(os.pardir, path, 'valid', 'images')}\\ntest: {os.path.join(os.pardir, path, 'test', 'images')}\\n\"\n",
    "\n",
    "    with open(os.path.join(path, \"data.yaml\"), \"w\") as f:\n",
    "        f.writelines(lines)"
   ]
  },
  {
   "cell_type": "markdown",
   "metadata": {
    "pycharm": {
     "name": "#%% md\n"
    }
   },
   "source": [
    "## YOLOv5 - Setup\n",
    "\n",
    "\n",
    "Clone the YOLOv5 GitHub repository."
   ]
  },
  {
   "cell_type": "code",
   "execution_count": null,
   "metadata": {
    "pycharm": {
     "name": "#%%\n"
    }
   },
   "outputs": [],
   "source": [
    "!rm -rf yolov5\n",
    "!git clone https://github.com/ultralytics/yolov5.git"
   ]
  },
  {
   "cell_type": "markdown",
   "metadata": {
    "pycharm": {
     "name": "#%% md\n"
    }
   },
   "source": [
    "Install the dependencies of YOLOv5."
   ]
  },
  {
   "cell_type": "code",
   "execution_count": null,
   "metadata": {
    "pycharm": {
     "name": "#%%\n"
    }
   },
   "outputs": [],
   "source": [
    "!pip3 install -r yolov5/requirements.txt"
   ]
  },
  {
   "cell_type": "markdown",
   "metadata": {
    "pycharm": {
     "name": "#%% md\n"
    }
   },
   "source": [
    "## Oxford Pets by Species\n",
    "\n",
    "* Source: https://public.roboflow.com/object-detection/oxford-pets/2/download/yolov5pytorch\n",
    "* \\# of classes: 2"
   ]
  },
  {
   "cell_type": "code",
   "execution_count": null,
   "metadata": {
    "pycharm": {
     "name": "#%%\n"
    }
   },
   "outputs": [],
   "source": [
    "oxford_pets_species_zip_filename = \"oxford_pets_species.zip\"\n",
    "oxford_pets_species_extract_dir = \"oxford_pets_species\""
   ]
  },
  {
   "cell_type": "markdown",
   "metadata": {
    "pycharm": {
     "name": "#%% md\n"
    }
   },
   "source": [
    "Extract the zip file to the specified target directory."
   ]
  },
  {
   "cell_type": "code",
   "execution_count": null,
   "metadata": {},
   "outputs": [],
   "source": [
    "oxford_pets_species_zip_path = os.path.join(datasets_base_path, oxford_pets_species_zip_filename)\n",
    "oxford_pets_species_extract_path = os.path.join(datasets_base_path, oxford_pets_species_extract_dir)"
   ]
  },
  {
   "cell_type": "code",
   "execution_count": null,
   "metadata": {
    "pycharm": {
     "name": "#%%\n"
    }
   },
   "outputs": [],
   "source": [
    "!rm -rf {oxford_pets_species_extract_path}\n",
    "!unzip -o {oxford_pets_species_zip_path} -d {oxford_pets_species_extract_path}"
   ]
  },
  {
   "cell_type": "markdown",
   "metadata": {
    "pycharm": {
     "name": "#%% md\n"
    }
   },
   "source": [
    "Adapt the paths in the `data.yaml` to fit our project structure."
   ]
  },
  {
   "cell_type": "code",
   "execution_count": null,
   "metadata": {
    "pycharm": {
     "name": "#%%\n"
    }
   },
   "outputs": [],
   "source": [
    "adapt_data_yaml(oxford_pets_species_extract_path)"
   ]
  },
  {
   "cell_type": "markdown",
   "metadata": {
    "pycharm": {
     "name": "#%% md\n"
    }
   },
   "source": [
    "Fine-tune pre-trained `YOLOv5n`."
   ]
  },
  {
   "cell_type": "code",
   "execution_count": null,
   "metadata": {
    "pycharm": {
     "name": "#%%\n"
    }
   },
   "outputs": [],
   "source": [
    "weights = \"yolov5n.pt\"\n",
    "data = \"datasets/oxford_pets_species/data.yaml\"\n",
    "project = \"runs/train\"\n",
    "project_name = f\"yolov5n_oxford_pets_species\"\n",
    "device = 0 # use first GPU; if no CPU is available, change to \"cpu\"\n",
    "\n",
    "!python3 yolov5/train.py --weights {weights} --batch 32 --epochs 150 --data {data} --project {project} --name {project_name} --device {device} --cache"
   ]
  },
  {
   "cell_type": "markdown",
   "metadata": {
    "pycharm": {
     "name": "#%% md\n"
    }
   },
   "source": [
    "Fine-tune pre-trained `YOLOv5s`."
   ]
  },
  {
   "cell_type": "code",
   "execution_count": null,
   "metadata": {
    "pycharm": {
     "name": "#%%\n"
    }
   },
   "outputs": [],
   "source": [
    "weights = \"yolov5s.pt\"\n",
    "data = \"datasets/oxford_pets_species/data.yaml\"\n",
    "project = \"runs/train\"\n",
    "project_name = f\"yolov5s_oxford_pets_species\"\n",
    "device = 0 # use first GPU; if no CPU is available, change to \"cpu\"\n",
    "\n",
    "!python3 yolov5/train.py --weights {weights} --batch 32 --epochs 150 --data {data} --project {project} --name {project_name} --device {device} --cache"
   ]
  },
  {
   "cell_type": "markdown",
   "metadata": {},
   "source": [
    "## Oxford Pets by Breed\n",
    "\n",
    "* Source: https://public.roboflow.com/object-detection/oxford-pets/1/download/yolov5pytorch\n",
    "* \\# of classes: 37"
   ]
  },
  {
   "cell_type": "code",
   "execution_count": null,
   "metadata": {},
   "outputs": [],
   "source": [
    "oxford_pets_breed_zip_filename = \"oxford_pets_breed.zip\"\n",
    "oxford_pets_breed_extract_dir = \"oxford_pets_breed\""
   ]
  },
  {
   "cell_type": "markdown",
   "metadata": {},
   "source": [
    "Extract the zip file to the specified target directory."
   ]
  },
  {
   "cell_type": "code",
   "execution_count": null,
   "metadata": {},
   "outputs": [],
   "source": [
    "oxford_pets_breed_zip_path = os.path.join(datasets_base_path, oxford_pets_breed_zip_filename)\n",
    "oxford_pets_breed_extract_path = os.path.join(datasets_base_path, oxford_pets_breed_extract_dir)"
   ]
  },
  {
   "cell_type": "code",
   "execution_count": null,
   "metadata": {},
   "outputs": [],
   "source": [
    "!rm -rf {oxford_pets_breed_extract_path}\n",
    "!unzip -o {oxford_pets_breed_zip_path} -d {oxford_pets_breed_extract_path}"
   ]
  },
  {
   "cell_type": "markdown",
   "metadata": {},
   "source": [
    "Adapt the paths in the `data.yaml` to fit our project structure."
   ]
  },
  {
   "cell_type": "code",
   "execution_count": null,
   "metadata": {},
   "outputs": [],
   "source": [
    "adapt_data_yaml(oxford_pets_breed_extract_path)"
   ]
  },
  {
   "cell_type": "markdown",
   "metadata": {},
   "source": [
    "Fine-tune pre-trained `YOLOv5n`."
   ]
  },
  {
   "cell_type": "code",
   "execution_count": null,
   "metadata": {},
   "outputs": [],
   "source": [
    "weights = \"yolov5n.pt\"\n",
    "data = \"datasets/oxford_pets_breed/data.yaml\"\n",
    "project = \"runs/train\"\n",
    "project_name = f\"yolov5n_oxford_pets_breed\"\n",
    "device = 0 # use first GPU; if no CPU is available, change to \"cpu\"\n",
    "\n",
    "!python3 yolov5/train.py --weights {weights} --batch 32 --epochs 150 --data {data} --project {project} --name {project_name} --device {device} --cache"
   ]
  },
  {
   "cell_type": "markdown",
   "metadata": {},
   "source": [
    "Fine-tune pre-trained `YOLOv5s`."
   ]
  },
  {
   "cell_type": "code",
   "execution_count": null,
   "metadata": {},
   "outputs": [],
   "source": [
    "weights = \"yolov5s.pt\"\n",
    "data = \"datasets/oxford_pets_breed/data.yaml\"\n",
    "project = \"runs/train\"\n",
    "project_name = f\"yolov5s_oxford_pets_breed\"\n",
    "device = 0 # use first GPU; if no CPU is available, change to \"cpu\"\n",
    "\n",
    "!python3 yolov5/train.py --weights {weights} --batch 32 --epochs 150 --data {data} --project {project} --name {project_name} --device {device} --cache"
   ]
  },
  {
   "cell_type": "markdown",
   "metadata": {},
   "source": [
    "## Aquarium Dataset\n",
    "\n",
    "* Source: https://public.roboflow.com/object-detection/aquarium/2/download/yolov5pytorch\n",
    "* \\# of classes: 7"
   ]
  },
  {
   "cell_type": "code",
   "execution_count": null,
   "metadata": {},
   "outputs": [],
   "source": [
    "aquarium_zip_filename = \"aquarium.zip\"\n",
    "aquarium_extract_dir = \"aquarium\""
   ]
  },
  {
   "cell_type": "markdown",
   "metadata": {},
   "source": [
    "Extract the zip file to the specified target directory."
   ]
  },
  {
   "cell_type": "code",
   "execution_count": null,
   "metadata": {},
   "outputs": [],
   "source": [
    "aquarium_zip_path = os.path.join(datasets_base_path, aquarium_zip_filename)\n",
    "aquarium_extract_path = os.path.join(datasets_base_path, aquarium_extract_dir)"
   ]
  },
  {
   "cell_type": "code",
   "execution_count": null,
   "metadata": {},
   "outputs": [],
   "source": [
    "!rm -rf {aquarium_extract_path}\n",
    "!unzip -o {aquarium_zip_path} -d {aquarium_extract_path}"
   ]
  },
  {
   "cell_type": "markdown",
   "metadata": {},
   "source": [
    "Adapt the paths in the `data.yaml` to fit our project structure."
   ]
  },
  {
   "cell_type": "code",
   "execution_count": null,
   "metadata": {},
   "outputs": [],
   "source": [
    "adapt_data_yaml(aquarium_extract_path)"
   ]
  },
  {
   "cell_type": "markdown",
   "metadata": {},
   "source": [
    "Fine-tune pre-trained `YOLOv5n`."
   ]
  },
  {
   "cell_type": "code",
   "execution_count": null,
   "metadata": {},
   "outputs": [],
   "source": [
    "weights = \"yolov5n.pt\"\n",
    "data = \"datasets/aquarium/data.yaml\"\n",
    "project = \"runs/train\"\n",
    "project_name = f\"yolov5n_aquarium_sgd\"\n",
    "device = 0 # use first GPU; if no CPU is available, change to \"cpu\"\n",
    "\n",
    "!python3 yolov5/train.py --weights {weights} --batch 16 --epochs 300 --data {data} --project {project} --name {project_name} --device {device} --cache"
   ]
  },
  {
   "cell_type": "code",
   "execution_count": null,
   "metadata": {},
   "outputs": [],
   "source": [
    "weights = \"yolov5n.pt\"\n",
    "data = \"datasets/aquarium/data.yaml\"\n",
    "project = \"runs/train\"\n",
    "project_name = f\"yolov5n_aquarium_adamw\"\n",
    "device = 0 # use first GPU; if no CPU is available, change to \"cpu\"\n",
    "\n",
    "!python3 yolov5/train.py --weights {weights} --optimizer AdamW --batch 16 --epochs 300 --data {data} --project {project} --name {project_name} --device {device} --cache"
   ]
  },
  {
   "cell_type": "code",
   "execution_count": null,
   "metadata": {
    "scrolled": false
   },
   "outputs": [],
   "source": [
    "weights = \"yolov5s.pt\"\n",
    "data = \"datasets/aquarium/data.yaml\"\n",
    "project = \"runs/train\"\n",
    "project_name = f\"yolov5s_aquarium_sgd\"\n",
    "device = 0 # use first GPU; if no CPU is available, change to \"cpu\"\n",
    "\n",
    "!python3 yolov5/train.py --weights {weights} --batch 16 --epochs 300 --data {data} --project {project} --name {project_name} --device {device} --cache"
   ]
  },
  {
   "cell_type": "code",
   "execution_count": null,
   "metadata": {},
   "outputs": [],
   "source": [
    "weights = \"yolov5s.pt\"\n",
    "data = \"datasets/aquarium/data.yaml\"\n",
    "project = \"runs/train\"\n",
    "project_name = f\"yolov5s_aquarium_adamw\"\n",
    "device = 0 # use first GPU; if no CPU is available, change to \"cpu\"\n",
    "\n",
    "!python3 yolov5/train.py --weights {weights} --optimizer AdamW --batch 16 --epochs 300 --data {data} --project {project} --name {project_name} --device {device} --cache"
   ]
  },
  {
   "cell_type": "markdown",
   "metadata": {},
   "source": [
    "## Test Set Evaluation\n",
    "\n",
    "Use the models with the best performance on the valdation set for the final evaluation on the test set."
   ]
  },
  {
   "cell_type": "markdown",
   "metadata": {},
   "source": [
    "### Oxford Pets by Species"
   ]
  },
  {
   "cell_type": "code",
   "execution_count": null,
   "metadata": {},
   "outputs": [],
   "source": [
    "weights = \"runs/train/yolov5s_oxford_pets_species/weights/best.pt\"\n",
    "data = \"datasets/oxford_pets_species/data.yaml\"\n",
    "project = \"runs/test\"\n",
    "project_name = f\"yolov5s_oxford_pets_species\"\n",
    "device = 0 # use first GPU; if no CPU is available, change to \"cpu\"\n",
    "\n",
    "!python3 yolov5/val.py --task test --weights {weights} --data {data} --project {project} --name {project_name} --device {device}"
   ]
  },
  {
   "cell_type": "markdown",
   "metadata": {},
   "source": [
    "### Oxford Pets by Breed"
   ]
  },
  {
   "cell_type": "code",
   "execution_count": null,
   "metadata": {},
   "outputs": [],
   "source": [
    "weights = \"runs/train/yolov5s_oxford_pets_breed/weights/best.pt\"\n",
    "data = \"datasets/oxford_pets_breed/data.yaml\"\n",
    "project = \"runs/test\"\n",
    "project_name = f\"yolov5s_oxford_pets_breed\"\n",
    "device = 0 # use first GPU; if no CPU is available, change to \"cpu\"\n",
    "\n",
    "!python3 yolov5/val.py --task test --weights {weights} --data {data} --project {project} --name {project_name} --device {device}"
   ]
  },
  {
   "cell_type": "markdown",
   "metadata": {},
   "source": [
    "### Aquarium Dataset"
   ]
  },
  {
   "cell_type": "code",
   "execution_count": null,
   "metadata": {},
   "outputs": [],
   "source": [
    "weights = \"runs/train/yolov5s_aquarium_sgd/weights/best.pt\"\n",
    "data = \"datasets/aquarium/data.yaml\"\n",
    "project = \"runs/test\"\n",
    "project_name = f\"yolov5s_aquarium_sgd\"\n",
    "device = 0 # use first GPU; if no CPU is available, change to \"cpu\"\n",
    "\n",
    "!python3 yolov5/val.py --task test --weights {weights} --data {data} --project {project} --name {project_name} --device {device}"
   ]
  },
  {
   "cell_type": "markdown",
   "metadata": {},
   "source": [
    "## Inference on selected Images"
   ]
  },
  {
   "cell_type": "code",
   "execution_count": null,
   "metadata": {},
   "outputs": [],
   "source": [
    "from IPython.display import Image, display"
   ]
  },
  {
   "cell_type": "markdown",
   "metadata": {},
   "source": [
    "### Oxford Pets by Species"
   ]
  },
  {
   "cell_type": "code",
   "execution_count": null,
   "metadata": {},
   "outputs": [],
   "source": [
    "weights = \"runs/train/yolov5s_oxford_pets_species/weights/best.pt\"\n",
    "source = \"datasets/oxford_pets_species/test/images/keeshond_12_jpg.rf.e4f3e0b77f8c71584baf61b2025c0e54.jpg\"\n",
    "project = \"images\"\n",
    "project_name = \"oxford_pets_species\"\n",
    "\n",
    "!python3 yolov5/detect.py --weights {weights} --source {source} --project {project} --name {project_name}"
   ]
  },
  {
   "cell_type": "code",
   "execution_count": null,
   "metadata": {},
   "outputs": [],
   "source": [
    "display(Image(filename=os.path.join(\"images\", \"oxford_pets_species\", \"keeshond_12_jpg.rf.e4f3e0b77f8c71584baf61b2025c0e54.jpg\")))"
   ]
  },
  {
   "cell_type": "markdown",
   "metadata": {},
   "source": [
    "### Oxford Pets by Breed"
   ]
  },
  {
   "cell_type": "code",
   "execution_count": null,
   "metadata": {},
   "outputs": [],
   "source": [
    "weights = \"runs/train/yolov5s_oxford_pets_breed/weights/best.pt\"\n",
    "source = \"datasets/oxford_pets_breed/test/images/Bengal_118_jpg.rf.7a191e38dc51f2a0864bfda9339ef8c9.jpg\"\n",
    "project = \"images\"\n",
    "project_name = \"oxford_pets_breed\"\n",
    "\n",
    "!python3 yolov5/detect.py --weights {weights} --source {source} --project {project} --name {project_name}"
   ]
  },
  {
   "cell_type": "code",
   "execution_count": null,
   "metadata": {},
   "outputs": [],
   "source": [
    "display(Image(filename=os.path.join(\"images\", \"oxford_pets_breed\", \"Bengal_118_jpg.rf.7a191e38dc51f2a0864bfda9339ef8c9.jpg\")))"
   ]
  },
  {
   "cell_type": "markdown",
   "metadata": {},
   "source": [
    "### Aquarium Dataset"
   ]
  },
  {
   "cell_type": "code",
   "execution_count": null,
   "metadata": {},
   "outputs": [],
   "source": [
    "weights = \"runs/train/yolov5s_aquarium_sgd/weights/best.pt\"\n",
    "source = \"datasets/aquarium/test/images/IMG_2347_jpeg_jpg.rf.7c71ac4b9301eb358cd4a832844dedcb.jpg\"\n",
    "project = \"images\"\n",
    "project_name = \"aquarium\"\n",
    "\n",
    "!python3 yolov5/detect.py --weights {weights} --source {source} --project {project} --name {project_name}"
   ]
  },
  {
   "cell_type": "code",
   "execution_count": null,
   "metadata": {},
   "outputs": [],
   "source": [
    "display(Image(filename=os.path.join(\"images\", \"aquarium\", \"IMG_2347_jpeg_jpg.rf.7c71ac4b9301eb358cd4a832844dedcb.jpg\")))"
   ]
  },
  {
   "cell_type": "code",
   "execution_count": null,
   "metadata": {},
   "outputs": [],
   "source": []
  }
 ],
 "metadata": {
  "kernelspec": {
   "display_name": "Python 3 (ipykernel)",
   "language": "python",
   "name": "python3"
  },
  "language_info": {
   "codemirror_mode": {
    "name": "ipython",
    "version": 3
   },
   "file_extension": ".py",
   "mimetype": "text/x-python",
   "name": "python",
   "nbconvert_exporter": "python",
   "pygments_lexer": "ipython3",
   "version": "3.8.10"
  }
 },
 "nbformat": 4,
 "nbformat_minor": 1
}

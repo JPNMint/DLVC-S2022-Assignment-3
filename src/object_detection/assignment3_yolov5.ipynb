{
 "cells": [
  {
   "cell_type": "markdown",
   "metadata": {
    "pycharm": {
     "name": "#%% md\n"
    }
   },
   "source": [
    "# Assignment 3 - Fine Tuning YOLOv5 for Object Detection\n",
    "\n",
    "\n",
    "## Overview and Prerequisites\n",
    "\n",
    "This notebooks contains the conducted object detection experiments.\n",
    "\n",
    "All used datasets are from https://roboflow.com. In order to download dataset from there, you normally need to register. For convenience, we provide all datasets via a Google Drive. Download them and place the zip files in the `src/yolov5/datasets` directory.\n",
    "\n",
    "* Oxford Pets (by species): https://drive.google.com/uc?id=1bfyssR7CfzTqJ-JAgaZNuM0lgTumDcZy&export=download\n",
    "* TODO\n",
    "* TODO"
   ]
  },
  {
   "cell_type": "markdown",
   "source": [
    "If haven't installed PyTorch yet, remove the comment in the following cell and execute it. In case you need a `CUDA` version different from 11.3, please refer to https://pytorch.org/get-started/locally/."
   ],
   "metadata": {
    "collapsed": false,
    "pycharm": {
     "name": "#%% md\n"
    }
   }
  },
  {
   "cell_type": "code",
   "execution_count": null,
   "outputs": [],
   "source": [
    "#!pip3 install torch torchvision --extra-index-url https://download.pytorch.org/whl/cu113"
   ],
   "metadata": {
    "collapsed": false,
    "pycharm": {
     "name": "#%%\n"
    }
   }
  },
  {
   "cell_type": "markdown",
   "source": [
    "Install additionally dependencies."
   ],
   "metadata": {
    "collapsed": false,
    "pycharm": {
     "name": "#%% md\n"
    }
   }
  },
  {
   "cell_type": "code",
   "execution_count": null,
   "outputs": [],
   "source": [
    "!pip3 install wandb"
   ],
   "metadata": {
    "collapsed": false,
    "pycharm": {
     "name": "#%%\n"
    }
   }
  },
  {
   "cell_type": "code",
   "execution_count": null,
   "outputs": [],
   "source": [
    "import os\n",
    "\n",
    "import torch"
   ],
   "metadata": {
    "collapsed": false,
    "pycharm": {
     "name": "#%%\n"
    }
   }
  },
  {
   "cell_type": "markdown",
   "source": [
    "## Constants and Utiltity Functions"
   ],
   "metadata": {
    "collapsed": false,
    "pycharm": {
     "name": "#%% md\n"
    }
   }
  },
  {
   "cell_type": "code",
   "execution_count": null,
   "outputs": [],
   "source": [
    "datasets_base_path = \"datasets\" # directory where datasets are located\n",
    "device = 0 if torch.cuda.is_available() else \"cpu\" # use GPU if available, else CPU\n",
    "\n",
    "# directories where results are stored (logging, trained model)\n",
    "project_base_path = \"runs\" \n",
    "project_train = os.path.join(project_base_path, \"train\")\n",
    "project_test = os.path.join(project_base_path, \"test\")"
   ],
   "metadata": {
    "collapsed": false,
    "pycharm": {
     "name": "#%%\n"
    }
   }
  },
  {
   "cell_type": "code",
   "execution_count": null,
   "outputs": [],
   "source": [
    "def adapt_data_yaml_train_val_keys(path):\n",
    "    \"\"\"\n",
    "    Adapts the paths of the train and validation set (keys 'train' and 'val') of a data.yaml file (YOLOv5 format)\n",
    "    to point to 'path'. The data.yaml file itself also has to be contained in the directory 'path'.\n",
    "    \n",
    "    :param str path: Path (directory) where the data.yaml file to be modified is located\n",
    "    \"\"\"\n",
    "    with open(os.path.join(path, \"data.yaml\"), \"r\") as f:\n",
    "        lines = f.readlines()\n",
    "    \n",
    "    lines[0] = f\"train: {os.path.join(os.pardir, path, 'train', 'images')}\\n\"\n",
    "    lines[1] = f\"val: {os.path.join(os.pardir, path, 'valid', 'images')}\\n\"\n",
    "\n",
    "    with open(os.path.join(path, \"data.yaml\"), \"w\") as f:\n",
    "        f.writelines(lines)"
   ],
   "metadata": {
    "collapsed": false,
    "pycharm": {
     "name": "#%%\n"
    }
   }
  },
  {
   "cell_type": "markdown",
   "source": [
    "## YOLOv5 - Setup\n",
    "\n",
    "\n",
    "Clone the YOLOv5 GitHub repository."
   ],
   "metadata": {
    "collapsed": false,
    "pycharm": {
     "name": "#%% md\n"
    }
   }
  },
  {
   "cell_type": "code",
   "execution_count": null,
   "outputs": [],
   "source": [
    "!git clone https://github.com/ultralytics/yolov5.git"
   ],
   "metadata": {
    "collapsed": false,
    "pycharm": {
     "name": "#%%\n"
    }
   }
  },
  {
   "cell_type": "markdown",
   "source": [
    "Install the dependencies of YOLOv5."
   ],
   "metadata": {
    "collapsed": false,
    "pycharm": {
     "name": "#%% md\n"
    }
   }
  },
  {
   "cell_type": "code",
   "execution_count": null,
   "outputs": [],
   "source": [
    "!pip3 install -r yolov5/requirements.txt"
   ],
   "metadata": {
    "collapsed": false,
    "pycharm": {
     "name": "#%%\n"
    }
   }
  },
  {
   "cell_type": "markdown",
   "source": [
    "## Oxford Pets - By Species\n",
    "\n",
    "* Source: https://public.roboflow.com/object-detection/oxford-pets/2/download/yolov5pytorch\n",
    "* \\# of classes: 2"
   ],
   "metadata": {
    "collapsed": false,
    "pycharm": {
     "name": "#%% md\n"
    }
   }
  },
  {
   "cell_type": "code",
   "execution_count": null,
   "outputs": [],
   "source": [
    "oxford_pets_species_zip_filename = \"oxford_pets_species.zip\"\n",
    "oxford_pets_species_extract_dir = \"oxford_pets_species\""
   ],
   "metadata": {
    "collapsed": false,
    "pycharm": {
     "name": "#%%\n"
    }
   }
  },
  {
   "cell_type": "markdown",
   "source": [
    "Extract the zip file to the specified target directory."
   ],
   "metadata": {
    "collapsed": false,
    "pycharm": {
     "name": "#%% md\n"
    }
   }
  },
  {
   "cell_type": "code",
   "execution_count": null,
   "outputs": [],
   "source": [
    "oxford_pets_species_zip_path = os.path.join(datasets_base_path, oxford_pets_species_zip_filename)\n",
    "oxford_pets_species_extract_path = os.path.join(datasets_base_path, oxford_pets_species_extract_dir)\n",
    "\n",
    "!unzip {oxford_pets_species_zip_path} -d {oxford_pets_species_extract_path}"
   ],
   "metadata": {
    "collapsed": false,
    "pycharm": {
     "name": "#%%\n"
    }
   }
  },
  {
   "cell_type": "markdown",
   "source": [
    "Adapt the paths in the `data.yaml` to fit our project structure."
   ],
   "metadata": {
    "collapsed": false,
    "pycharm": {
     "name": "#%% md\n"
    }
   }
  },
  {
   "cell_type": "code",
   "execution_count": null,
   "outputs": [],
   "source": [
    "adapt_data_yaml_train_val_keys(oxford_pets_extract_path)"
   ],
   "metadata": {
    "collapsed": false,
    "pycharm": {
     "name": "#%%\n"
    }
   }
  },
  {
   "cell_type": "markdown",
   "source": [
    "Set general hyperparameters."
   ],
   "metadata": {
    "collapsed": false,
    "pycharm": {
     "name": "#%% md\n"
    }
   }
  },
  {
   "cell_type": "code",
   "execution_count": null,
   "outputs": [],
   "source": [
    "epochs = 300\n",
    "optimizer = \"SGD\"\n",
    "batch_size = 32"
   ],
   "metadata": {
    "collapsed": false,
    "pycharm": {
     "name": "#%%\n"
    }
   }
  },
  {
   "cell_type": "markdown",
   "source": [
    "Fine-tune pre-trained `YOLOv5n`."
   ],
   "metadata": {
    "collapsed": false,
    "pycharm": {
     "name": "#%% md\n"
    }
   }
  },
  {
   "cell_type": "code",
   "execution_count": null,
   "outputs": [],
   "source": [
    "weights = \"yolov5n.pt\"\n",
    "project_name = f\"yolov5n_oxford_pets_species\"\n",
    "!python yolov5/train.py --weights {weights} --optimizer {optimizer} --batch {batch_size} --epochs {epochs} --data {oxford_pets_species_extract_path}/data.yaml --project {project} --name {project_name} --device {device} --cache"
   ],
   "metadata": {
    "collapsed": false,
    "pycharm": {
     "name": "#%%\n"
    }
   }
  },
  {
   "cell_type": "markdown",
   "source": [
    "Fine-tune pre-trained `YOLOv5s`."
   ],
   "metadata": {
    "collapsed": false,
    "pycharm": {
     "name": "#%% md\n"
    }
   }
  },
  {
   "cell_type": "code",
   "execution_count": null,
   "outputs": [],
   "source": [
    "weights = \"yolov5s.pt\"\n",
    "project_name = f\"yolov5s_oxford_pets_species\"\n",
    "!python yolov5/train.py --weights {weights} --optimizer {optimizer} --batch {batch_size} --epochs {epochs} --data {oxford_pets_species_extract_path}/data.yaml --project {project} --name {project_name} --device {device} --cache"
   ],
   "metadata": {
    "collapsed": false,
    "pycharm": {
     "name": "#%%\n"
    }
   }
  }
 ],
 "metadata": {
  "kernelspec": {
   "display_name": "Python 3 (ipykernel)",
   "language": "python",
   "name": "python3"
  },
  "language_info": {
   "codemirror_mode": {
    "name": "ipython",
    "version": 3
   },
   "file_extension": ".py",
   "mimetype": "text/x-python",
   "name": "python",
   "nbconvert_exporter": "python",
   "pygments_lexer": "ipython3",
   "version": "3.8.10"
  }
 },
 "nbformat": 4,
 "nbformat_minor": 1
}